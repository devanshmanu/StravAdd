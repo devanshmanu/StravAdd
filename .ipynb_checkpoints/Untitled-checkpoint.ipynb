{
 "cells": [
  {
   "cell_type": "code",
   "execution_count": 2,
   "metadata": {},
   "outputs": [],
   "source": [
    "from stravalib.client import Client"
   ]
  },
  {
   "cell_type": "code",
   "execution_count": 10,
   "metadata": {},
   "outputs": [],
   "source": [
    "TOKEN = \"1a21ac749371d58df9898d02d760d2f4ddb5aa17\"\n",
    "CLIENTID = \"29653\"\n",
    "REFRESH = \"f89eab99f6c036fcf4ab4c73292a3c756157abda\"\n",
    "SECRET = \"24ea02bbb8a6ea5e1355293bb9fddb90117baf4e\""
   ]
  },
  {
   "cell_type": "code",
   "execution_count": 26,
   "metadata": {},
   "outputs": [],
   "source": [
    "client = Client(access_token=\"2e2f754a2a9b20edc39a31329832a1daacf86673\")\n"
   ]
  },
  {
   "cell_type": "code",
   "execution_count": 27,
   "metadata": {},
   "outputs": [],
   "source": [
    "activities = client.get_activities(limit=100)\n"
   ]
  },
  {
   "cell_type": "code",
   "execution_count": 28,
   "metadata": {},
   "outputs": [
    {
     "data": {
      "text/plain": [
       "<BatchedResultsIterator entity=Activity>"
      ]
     },
     "execution_count": 28,
     "metadata": {},
     "output_type": "execute_result"
    }
   ],
   "source": [
    "activities"
   ]
  },
  {
   "cell_type": "code",
   "execution_count": 29,
   "metadata": {},
   "outputs": [
    {
     "name": "stderr",
     "output_type": "stream",
     "text": [
      "No handlers could be found for logger \"stravalib.model.Activity\"\n"
     ]
    }
   ],
   "source": [
    "sample = list(activities)[0]\n",
    "TOKEN = \"1a21ac749371d58df9898d02d760d2f4ddb5aa17\"\n",
    "CLIENTID = \"29653\"\n",
    "REFRESH = \"f89eab99f6c036fcf4ab4c73292a3c756157abda\"\n",
    "SECRET = \"24ea02bbb8a6ea5e1355293bb9fddb90117baf4e\""
   ]
  },
  {
   "cell_type": "code",
   "execution_count": 30,
   "metadata": {},
   "outputs": [],
   "source": [
    "# TOKEN = \"1a21ac749371d58df9898d02d760d2f4ddb5aa17\"\n",
    "# CLIENTID = \"29653\"\n",
    "# REFRESH = \"f89eab99f6c036fcf4ab4c73292a3c756157abda\"\n",
    "# SECRET = \"24ea02bbb8a6ea5e1355293bb9fddb90117baf4e\"\n",
    "\n",
    "# curl -X POST https://www.strava.com/oauth/token \\\n",
    "# -F client_id=29653 \\\n",
    "# -F client_secret=24ea02bbb8a6ea5e1355293bb9fddb90117baf4e \\\n",
    "# -F code=1d06a60a5021d65df99c0d898d1841f878449053\n",
    "    \n",
    "    \n",
    "# http://localhost/exchange_token?state=&code=1d06a60a5021d65df99c0d898d1841f878449053&scope=write"
   ]
  },
  {
   "cell_type": "code",
   "execution_count": 32,
   "metadata": {},
   "outputs": [
    {
     "data": {
      "text/plain": [
       "{'achievement_count': 1,\n",
       " 'athlete': {'admin': None,\n",
       "  'agreed_to_terms': None,\n",
       "  'approve_followers': None,\n",
       "  'athlete_type': None,\n",
       "  'badge_type_id': None,\n",
       "  'bikes': None,\n",
       "  'city': None,\n",
       "  'clubs': None,\n",
       "  'country': None,\n",
       "  'created_at': None,\n",
       "  'date_preference': None,\n",
       "  'dateofbirth': None,\n",
       "  'description': None,\n",
       "  'email': None,\n",
       "  'email_facebook_twitter_friend_joins': None,\n",
       "  'email_kom_lost': None,\n",
       "  'email_language': None,\n",
       "  'email_send_follower_notices': None,\n",
       "  'facebook_sharing_enabled': None,\n",
       "  'firstname': None,\n",
       "  'follower': None,\n",
       "  'follower_count': None,\n",
       "  'follower_request_count': None,\n",
       "  'friend': None,\n",
       "  'friend_count': None,\n",
       "  'ftp': None,\n",
       "  'global_privacy': None,\n",
       "  'instagram_username': None,\n",
       "  'lastname': None,\n",
       "  'max_heartrate': None,\n",
       "  'measurement_preference': None,\n",
       "  'membership': None,\n",
       "  'mutual_friend_count': None,\n",
       "  'offer_in_app_payment': None,\n",
       "  'owner': None,\n",
       "  'plan': None,\n",
       "  'premium': None,\n",
       "  'premium_expiration_date': None,\n",
       "  'profile': None,\n",
       "  'profile_medium': None,\n",
       "  'profile_original': None,\n",
       "  'receive_comment_emails': None,\n",
       "  'receive_follower_feed_emails': None,\n",
       "  'receive_kudos_emails': None,\n",
       "  'receive_newsletter': None,\n",
       "  'sample_race_distance': None,\n",
       "  'sample_race_time': None,\n",
       "  'sex': None,\n",
       "  'shoes': None,\n",
       "  'state': None,\n",
       "  'subscription_permissions': None,\n",
       "  'super_user': None,\n",
       "  'updated_at': None,\n",
       "  'username': None,\n",
       "  'weight': None},\n",
       " 'athlete_count': 1,\n",
       " 'average_cadence': None,\n",
       " 'average_heartrate': None,\n",
       " 'average_speed': 4.558,\n",
       " 'average_temp': None,\n",
       " 'average_watts': None,\n",
       " 'best_efforts': None,\n",
       " 'calories': None,\n",
       " 'comment_count': 0,\n",
       " 'commute': False,\n",
       " 'description': None,\n",
       " 'device_name': None,\n",
       " 'device_watts': False,\n",
       " 'distance': 2484.2,\n",
       " 'elapsed_time': '0:09:38',\n",
       " 'elev_high': 621.1,\n",
       " 'elev_low': 598.5,\n",
       " 'embed_token': None,\n",
       " 'end_latlng': u'17.43,78.34',\n",
       " 'external_id': u'5e715589f00b265d4f7dd8473c09a234',\n",
       " 'flagged': False,\n",
       " 'from_accepted_tag': False,\n",
       " 'gear': None,\n",
       " 'gear_id': None,\n",
       " 'guid': None,\n",
       " 'has_heartrate': False,\n",
       " 'has_kudoed': False,\n",
       " 'highlighted_kudosers': None,\n",
       " 'instagram_primary_photo': None,\n",
       " 'kilojoules': None,\n",
       " 'kudos_count': 0,\n",
       " 'laps': None,\n",
       " 'location_city': None,\n",
       " 'location_country': u'India',\n",
       " 'location_state': None,\n",
       " 'manual': False,\n",
       " 'map': {'id': u'a1684069249',\n",
       "  'polyline': None,\n",
       "  'summary_polyline': '_kniB}oe}MtD_GiFyF`FeFxDvGnF|C`i@`Us@rMtG`IExI'},\n",
       " 'max_heartrate': None,\n",
       " 'max_speed': 9.5,\n",
       " 'max_watts': None,\n",
       " 'moving_time': '0:09:05',\n",
       " 'name': u'Afternoon Ride',\n",
       " 'partner_brand_tag': None,\n",
       " 'partner_logo_url': None,\n",
       " 'photo_count': 0,\n",
       " 'photos': None,\n",
       " 'pr_count': 0,\n",
       " 'private': False,\n",
       " 'segment_efforts': None,\n",
       " 'segment_leaderboard_opt_out': None,\n",
       " 'splits_metric': None,\n",
       " 'splits_standard': None,\n",
       " 'start_date': '2018-07-06T07:30:33+00:00',\n",
       " 'start_date_local': '2018-07-06T13:00:33',\n",
       " 'start_latitude': 17.45,\n",
       " 'start_latlng': u'17.45,78.35',\n",
       " 'start_longitude': 78.35,\n",
       " 'suffer_score': None,\n",
       " 'timezone': 'Asia/Kolkata',\n",
       " 'total_elevation_gain': 31.5,\n",
       " 'total_photo_count': 0,\n",
       " 'trainer': False,\n",
       " 'type': u'Ride',\n",
       " 'upload_id': u'1808067818',\n",
       " 'utc_offset': 19800.0,\n",
       " 'weighted_average_watts': None,\n",
       " 'workout_type': u'10'}"
      ]
     },
     "execution_count": 32,
     "metadata": {},
     "output_type": "execute_result"
    }
   ],
   "source": [
    "sample.to_dict()"
   ]
  },
  {
   "cell_type": "code",
   "execution_count": 33,
   "metadata": {},
   "outputs": [],
   "source": [
    "my_cols =['average_speed',\n",
    "          'average_heartrate',\n",
    "          'average_watts', \n",
    "          'distance',\n",
    "          'elapsed_time',\n",
    "          'total_elevation_gain',\n",
    "          'type', \n",
    "          'start_date_local']\n",
    "data = []\n",
    "for activity in activities:\n",
    "    my_dict = activity.to_dict()\n",
    "    data.append([my_dict.get(x) for x in my_cols])\n",
    "    \n"
   ]
  },
  {
   "cell_type": "code",
   "execution_count": 34,
   "metadata": {},
   "outputs": [],
   "source": [
    "import pandas as pd\n",
    "df = pd.DataFrame(data, columns=my_cols)"
   ]
  },
  {
   "cell_type": "code",
   "execution_count": 35,
   "metadata": {},
   "outputs": [
    {
     "data": {
      "text/html": [
       "<div>\n",
       "<style scoped>\n",
       "    .dataframe tbody tr th:only-of-type {\n",
       "        vertical-align: middle;\n",
       "    }\n",
       "\n",
       "    .dataframe tbody tr th {\n",
       "        vertical-align: top;\n",
       "    }\n",
       "\n",
       "    .dataframe thead th {\n",
       "        text-align: right;\n",
       "    }\n",
       "</style>\n",
       "<table border=\"1\" class=\"dataframe\">\n",
       "  <thead>\n",
       "    <tr style=\"text-align: right;\">\n",
       "      <th></th>\n",
       "      <th>average_speed</th>\n",
       "      <th>average_heartrate</th>\n",
       "      <th>average_watts</th>\n",
       "      <th>distance</th>\n",
       "      <th>elapsed_time</th>\n",
       "      <th>total_elevation_gain</th>\n",
       "      <th>type</th>\n",
       "      <th>start_date_local</th>\n",
       "    </tr>\n",
       "  </thead>\n",
       "  <tbody>\n",
       "    <tr>\n",
       "      <th>0</th>\n",
       "      <td>4.558</td>\n",
       "      <td>None</td>\n",
       "      <td>None</td>\n",
       "      <td>2484.2</td>\n",
       "      <td>0:09:38</td>\n",
       "      <td>31.5</td>\n",
       "      <td>Ride</td>\n",
       "      <td>2018-07-06T13:00:33</td>\n",
       "    </tr>\n",
       "    <tr>\n",
       "      <th>1</th>\n",
       "      <td>2.807</td>\n",
       "      <td>None</td>\n",
       "      <td>None</td>\n",
       "      <td>4386.8</td>\n",
       "      <td>0:35:50</td>\n",
       "      <td>54.8</td>\n",
       "      <td>Ride</td>\n",
       "      <td>2018-06-14T17:50:05</td>\n",
       "    </tr>\n",
       "    <tr>\n",
       "      <th>2</th>\n",
       "      <td>2.960</td>\n",
       "      <td>None</td>\n",
       "      <td>None</td>\n",
       "      <td>3253.1</td>\n",
       "      <td>0:52:41</td>\n",
       "      <td>46.1</td>\n",
       "      <td>Ride</td>\n",
       "      <td>2018-06-14T10:46:28</td>\n",
       "    </tr>\n",
       "    <tr>\n",
       "      <th>3</th>\n",
       "      <td>3.549</td>\n",
       "      <td>None</td>\n",
       "      <td>None</td>\n",
       "      <td>4606.8</td>\n",
       "      <td>0:23:16</td>\n",
       "      <td>75.6</td>\n",
       "      <td>Ride</td>\n",
       "      <td>2018-06-13T17:24:31</td>\n",
       "    </tr>\n",
       "    <tr>\n",
       "      <th>4</th>\n",
       "      <td>3.776</td>\n",
       "      <td>None</td>\n",
       "      <td>None</td>\n",
       "      <td>2820.7</td>\n",
       "      <td>0:38:30</td>\n",
       "      <td>34.6</td>\n",
       "      <td>Ride</td>\n",
       "      <td>2018-06-13T10:37:05</td>\n",
       "    </tr>\n",
       "  </tbody>\n",
       "</table>\n",
       "</div>"
      ],
      "text/plain": [
       "   average_speed average_heartrate average_watts  distance elapsed_time  \\\n",
       "0          4.558              None          None    2484.2      0:09:38   \n",
       "1          2.807              None          None    4386.8      0:35:50   \n",
       "2          2.960              None          None    3253.1      0:52:41   \n",
       "3          3.549              None          None    4606.8      0:23:16   \n",
       "4          3.776              None          None    2820.7      0:38:30   \n",
       "\n",
       "   total_elevation_gain  type     start_date_local  \n",
       "0                  31.5  Ride  2018-07-06T13:00:33  \n",
       "1                  54.8  Ride  2018-06-14T17:50:05  \n",
       "2                  46.1  Ride  2018-06-14T10:46:28  \n",
       "3                  75.6  Ride  2018-06-13T17:24:31  \n",
       "4                  34.6  Ride  2018-06-13T10:37:05  "
      ]
     },
     "execution_count": 35,
     "metadata": {},
     "output_type": "execute_result"
    }
   ],
   "source": [
    "df.head()\n"
   ]
  },
  {
   "cell_type": "code",
   "execution_count": null,
   "metadata": {},
   "outputs": [],
   "source": [
    "# curl -X POST https://www.strava.com/oauth/token \\\n",
    "# -F client_id=29653 \\\n",
    "# -F client_secret=24ea02bbb8a6ea5e1355293bb9fddb90117baf4e \\\n",
    "# -F code=6a96c999533a05a2aba83c459857188fc44cdc61"
   ]
  }
 ],
 "metadata": {
  "kernelspec": {
   "display_name": "Python 2",
   "language": "python",
   "name": "python2"
  },
  "language_info": {
   "codemirror_mode": {
    "name": "ipython",
    "version": 2
   },
   "file_extension": ".py",
   "mimetype": "text/x-python",
   "name": "python",
   "nbconvert_exporter": "python",
   "pygments_lexer": "ipython2",
   "version": "2.7.12"
  }
 },
 "nbformat": 4,
 "nbformat_minor": 2
}
