{
 "cells": [
  {
   "cell_type": "code",
   "execution_count": 282,
   "metadata": {},
   "outputs": [
    {
     "name": "stdout",
     "output_type": "stream",
     "text": [
      "Enter Access Token: a2e06547a85901bbf61caac2a22a77e6e69e6b79\n",
      "<Athlete id=25845340 firstname=Yaswanth lastname=Singampalli>\n"
     ]
    }
   ],
   "source": [
    "from stravalib.client import Client\n",
    "\n",
    "client = Client()\n",
    "\n",
    "authorize_url = client.authorization_url(client_id=29653, redirect_uri='ec2-18-236-253-110.us-west-2.compute.amazonaws.com')\n",
    "authorize_url\n",
    "\n",
    "code = raw_input(\"Enter Access Token: \") \n",
    "\n",
    "token_response = client.exchange_code_for_token(client_id=29653, client_secret='24ea02bbb8a6ea5e1355293bb9fddb90117baf4e', code=code)\n",
    "access_token = str(token_response.encode('utf-8'))\n",
    "\n",
    "client.access_token = access_token\n",
    "athlete = client.get_athlete()\n",
    "# print(\"For {id}, I now have an access token {token}\".format(id=athlete.id, token=client.access_token))\n",
    "print(client.get_athlete())\n"
   ]
  },
  {
   "cell_type": "code",
   "execution_count": 283,
   "metadata": {},
   "outputs": [],
   "source": [
    "name =  client.get_athlete().firstname + \" \" + client.get_athlete().lastname\n",
    "city = client.get_athlete().city\n"
   ]
  },
  {
   "cell_type": "code",
   "execution_count": 284,
   "metadata": {},
   "outputs": [],
   "source": [
    "all_activites = list(client.get_activities())\n"
   ]
  },
  {
   "cell_type": "code",
   "execution_count": 285,
   "metadata": {},
   "outputs": [
    {
     "data": {
      "text/plain": [
       "0"
      ]
     },
     "execution_count": 285,
     "metadata": {},
     "output_type": "execute_result"
    }
   ],
   "source": [
    "len(all_activites)\n",
    "# for activity in all_activites:\n",
    "#     print activity.map.summary_polyline\n",
    "# (all_activites[9].map.summary_polyline)"
   ]
  },
  {
   "cell_type": "code",
   "execution_count": 286,
   "metadata": {},
   "outputs": [],
   "source": [
    "all_polylines = [activity.map.summary_polyline for activity in all_activites if activity.map.summary_polyline]\n"
   ]
  },
  {
   "cell_type": "code",
   "execution_count": 287,
   "metadata": {},
   "outputs": [],
   "source": [
    "# import requests\n",
    "# import os\n",
    "# import sys\n",
    "# import csv\n",
    "\n",
    "# token = access_token\n",
    "# headers = {'Authorization': \"Bearer {0}\".format(token)}\n",
    "# all_polylines = []\n",
    "# with open(\"runs.csv\", \"w\") as runs_file:\n",
    "#     writer = csv.writer(runs_file, delimiter=\",\")\n",
    "#     writer.writerow([\"id\", \"polyline\"])\n",
    "\n",
    "#     page = 1\n",
    "#     while True:\n",
    "#         r = requests.get(\"https://www.strava.com/api/v3/athlete/activities?page={0}\".format(page), headers = headers)\n",
    "#         response = r.json()\n",
    "\n",
    "#         if len(response) == 0:\n",
    "#             break\n",
    "#         else:\n",
    "#             for activity in response:\n",
    "#                 r = requests.get(\"https://www.strava.com/api/v3/activities/{0}?include_all_efforts=true\".format(activity[\"id\"]), headers = headers)\n",
    "#                 polyline = r.json()[\"map\"][\"polyline\"]\n",
    "#                 if polyline:\n",
    "#                     all_polylines.append(polyline)\n",
    "#                     writer.writerow([activity[\"id\"], polyline])\n",
    "#                     print(\"Number of Polylines till now: \" + str(len(all_polylines)))\n",
    "#             page += 1\n",
    "            "
   ]
  },
  {
   "cell_type": "code",
   "execution_count": 288,
   "metadata": {},
   "outputs": [
    {
     "data": {
      "text/plain": [
       "0"
      ]
     },
     "execution_count": 288,
     "metadata": {},
     "output_type": "execute_result"
    }
   ],
   "source": [
    "len(all_polylines)"
   ]
  },
  {
   "cell_type": "code",
   "execution_count": 289,
   "metadata": {},
   "outputs": [],
   "source": [
    "LATLONG = []\n",
    "\n",
    "import polyline\n",
    "for item in all_polylines:\n",
    "    coords = polyline.decode(str(item))\n",
    "    for x in coords:\n",
    "        LATLONG.append(x)"
   ]
  },
  {
   "cell_type": "code",
   "execution_count": 290,
   "metadata": {},
   "outputs": [],
   "source": [
    "# LAT = [i[0] for i in LATLONG]\n",
    "# LONG = [i[1] for i in LATLONG]"
   ]
  },
  {
   "cell_type": "code",
   "execution_count": 291,
   "metadata": {},
   "outputs": [],
   "source": [
    "# import pandas as pd\n",
    "# import gmplot\n",
    "# gmap = gmplot.GoogleMapPlotter(34.0522, -118.2437, 10)\n",
    "# gmap.draw(\"new.html\")"
   ]
  },
  {
   "cell_type": "code",
   "execution_count": 292,
   "metadata": {},
   "outputs": [],
   "source": [
    "# import folium\n",
    "# from folium import plugins\n",
    "# import pandas as pd\n",
    "# import matplotlib.pyplot as plt\n",
    "# import seaborn as sns\n",
    "\n",
    "# %matplotlib inline"
   ]
  },
  {
   "cell_type": "code",
   "execution_count": 293,
   "metadata": {},
   "outputs": [],
   "source": [
    "# LATLONG"
   ]
  },
  {
   "cell_type": "code",
   "execution_count": 294,
   "metadata": {},
   "outputs": [],
   "source": [
    "# for item in LATLONG:\n",
    "#     folium.CircleMarker([item[0], item[1]],\n",
    "#                         radius=15,\n",
    "#                         fill_color = \"#3db7e4\",\n",
    "#                        ).add_to(m)"
   ]
  },
  {
   "cell_type": "code",
   "execution_count": 295,
   "metadata": {},
   "outputs": [],
   "source": [
    "# df = pd.DataFrame({\"LAT\":LAT, \"LONG\":LONG})\n",
    "# df"
   ]
  },
  {
   "cell_type": "code",
   "execution_count": 296,
   "metadata": {},
   "outputs": [],
   "source": [
    "# routeArr = df[[\"LAT\",\"LONG\"]].as_matrix()\n",
    "# routeArr"
   ]
  },
  {
   "cell_type": "code",
   "execution_count": 297,
   "metadata": {},
   "outputs": [],
   "source": [
    "# m.add_child(plugins.HeatMap(routeArr,radius=15))\n",
    "# m"
   ]
  },
  {
   "cell_type": "code",
   "execution_count": 298,
   "metadata": {},
   "outputs": [],
   "source": [
    "# m"
   ]
  },
  {
   "cell_type": "code",
   "execution_count": 299,
   "metadata": {},
   "outputs": [
    {
     "name": "stdout",
     "output_type": "stream",
     "text": [
      "0.6.0\n"
     ]
    }
   ],
   "source": [
    "import os\n",
    "import folium\n",
    "import operator\n",
    "\n",
    "print(folium.__version__)\n",
    "\n",
    "def dict_sort_des(diction):\n",
    "    sorted_d = sorted(diction.items(), key=operator.itemgetter(1),reverse=True)\n",
    "    return sorted_d"
   ]
  },
  {
   "cell_type": "code",
   "execution_count": 300,
   "metadata": {},
   "outputs": [],
   "source": [
    "data = []\n",
    "for i in LATLONG:\n",
    "    data.append( list(i))"
   ]
  },
  {
   "cell_type": "code",
   "execution_count": 301,
   "metadata": {},
   "outputs": [
    {
     "ename": "IndexError",
     "evalue": "list index out of range",
     "output_type": "error",
     "traceback": [
      "\u001b[0;31m---------------------------------------------------------------------------\u001b[0m",
      "\u001b[0;31mIndexError\u001b[0m                                Traceback (most recent call last)",
      "\u001b[0;32m<ipython-input-301-9b4f2db7e4ee>\u001b[0m in \u001b[0;36m<module>\u001b[0;34m()\u001b[0m\n\u001b[1;32m      7\u001b[0m     \u001b[0;32melse\u001b[0m\u001b[0;34m:\u001b[0m\u001b[0;34m\u001b[0m\u001b[0m\n\u001b[1;32m      8\u001b[0m         \u001b[0mfrequency_dict\u001b[0m\u001b[0;34m[\u001b[0m\u001b[0ml\u001b[0m\u001b[0;34m]\u001b[0m \u001b[0;34m=\u001b[0m \u001b[0;36m1\u001b[0m\u001b[0;34m\u001b[0m\u001b[0m\n\u001b[0;32m----> 9\u001b[0;31m \u001b[0maddress\u001b[0m \u001b[0;34m=\u001b[0m \u001b[0mdict_sort_des\u001b[0m\u001b[0;34m(\u001b[0m\u001b[0mfrequency_dict\u001b[0m\u001b[0;34m)\u001b[0m\u001b[0;34m[\u001b[0m\u001b[0;34m:\u001b[0m\u001b[0;36m5\u001b[0m\u001b[0;34m]\u001b[0m\u001b[0;34m[\u001b[0m\u001b[0;36m0\u001b[0m\u001b[0;34m]\u001b[0m\u001b[0;34m[\u001b[0m\u001b[0;36m0\u001b[0m\u001b[0;34m]\u001b[0m\u001b[0;34m\u001b[0m\u001b[0m\n\u001b[0m\u001b[1;32m     10\u001b[0m \u001b[0;31m#List fo frequent locations\u001b[0m\u001b[0;34m\u001b[0m\u001b[0;34m\u001b[0m\u001b[0m\n",
      "\u001b[0;31mIndexError\u001b[0m: list index out of range"
     ]
    }
   ],
   "source": [
    "data\n",
    "frequency_dict = {}\n",
    "for k in LATLONG:\n",
    "    l = round(k[0], 3),round(k[1], 3)\n",
    "    if l in frequency_dict.keys():\n",
    "        frequency_dict[l] += 1\n",
    "    else:\n",
    "        frequency_dict[l] = 1\n",
    "address = dict_sort_des(frequency_dict)[:5][0][0]\n",
    "#List fo frequent locations"
   ]
  },
  {
   "cell_type": "code",
   "execution_count": null,
   "metadata": {},
   "outputs": [],
   "source": [
    "from folium.plugins import HeatMap\n",
    "\n",
    "m = folium.Map(address, tiles='openstreetmap', zoom_start=13)\n",
    "\n",
    "HeatMap(data).add_to(m)\n",
    "\n",
    "folium.plugins.HeatMap(data, radius = 20, min_opacity = 0.1, max_val = 40,gradient={.6: 'blue', .98: 'lime', 1: 'red'}).add_to(m)\n",
    "\n",
    "m.save(os.path.join(str(name)+'heatmap.html'))\n",
    "\n",
    "m\n"
   ]
  },
  {
   "cell_type": "code",
   "execution_count": null,
   "metadata": {},
   "outputs": [],
   "source": [
    "map = folium.Map(location=address, zoom_start=20)\n",
    "folium.Marker(address).add_to(map)\n",
    "map.save(os.path.join(str(name)+'address.html'))\n",
    "map\n"
   ]
  },
  {
   "cell_type": "code",
   "execution_count": null,
   "metadata": {},
   "outputs": [],
   "source": [
    "from geopy.geocoders import Nominatim\n",
    "geolocator = Nominatim(user_agent=\"Strava\")\n",
    "location = geolocator.reverse(address)\n",
    "print(location.address)"
   ]
  },
  {
   "cell_type": "code",
   "execution_count": null,
   "metadata": {},
   "outputs": [],
   "source": [
    "startCoords = []\n",
    "endCoords = []\n",
    "\n",
    "temp1 = [list(polyline.decode(str(i))[0]) for i in all_polylines]\n",
    "temp2 = [list(polyline.decode(str(i))[-1]) for i in all_polylines]\n",
    "\n",
    "\n",
    "for i in temp1:\n",
    "    startCoords.append([round(i[0],3),round(i[1],3)])\n",
    "\n",
    "    \n",
    "    \n",
    "for i in temp2:\n",
    "    endCoords.append([round(i[0],3),round(i[1],3)])\n"
   ]
  },
  {
   "cell_type": "code",
   "execution_count": null,
   "metadata": {},
   "outputs": [],
   "source": [
    "from folium.plugins import MarkerCluster\n",
    "\n",
    "\n",
    "m = folium.Map(location=address,tiles='CartoDB dark_matter', zoom_start=12)\n",
    "\n",
    "marker_cluster = MarkerCluster().add_to(m)\n",
    "\n",
    "for start in startCoords:\n",
    "    folium.Marker(\n",
    "        location=start,\n",
    "        popup='Start',\n",
    "        icon=folium.Icon(color='green', icon='ok-sign'),\n",
    "    ).add_to(marker_cluster)\n",
    "\n",
    "for end in endCoords:\n",
    "    folium.Marker(\n",
    "        location=end,\n",
    "        popup='End',\n",
    "        icon=folium.Icon(color='red', icon='remove-sign'),\n",
    "    ).add_to(marker_cluster)\n",
    "\n",
    "folium.Marker(\n",
    "        location=address,\n",
    "        popup='Predicted address',\n",
    "        icon=folium.Icon(color='blue'),\n",
    "    ).add_to(marker_cluster)\n",
    "\n",
    "\n",
    "m.save(os.path.join(str(name)+'proof.html'))\n",
    "m"
   ]
  },
  {
   "cell_type": "code",
   "execution_count": null,
   "metadata": {},
   "outputs": [],
   "source": [
    "# complete_json = []\n",
    "# page = 1\n",
    "# while True:\n",
    "#     r = requests.get(\"https://www.strava.com/api/v3/athlete/activities?page={0}\".format(page), headers = headers)\n",
    "#     response = r.json()\n",
    "#     if len(response) == 0:\n",
    "#         break\n",
    "#     else:\n",
    "#         for activity in response:\n",
    "#             r = requests.get(\"https://www.strava.com/api/v3/activities/{0}?include_all_efforts=true\".format(activity[\"id\"]), headers = headers)\n",
    "#             complete_json.append(r.json())\n",
    "#         page += 1"
   ]
  },
  {
   "cell_type": "code",
   "execution_count": null,
   "metadata": {},
   "outputs": [],
   "source": [
    "# for i in complete_json:\n",
    "#     try:\n",
    "#         print (i['segment_efforts'][0]['segment']['city'])\n",
    "#     except:\n",
    "#         pass"
   ]
  },
  {
   "cell_type": "code",
   "execution_count": null,
   "metadata": {},
   "outputs": [],
   "source": [
    "# from __future__ import print_function\n",
    "# import time\n",
    "# import swagger_client\n",
    "# from swagger_client.rest import ApiException\n",
    "# from pprint import pprintaddress = dict_sort_des(frequency_dict)[:5][0][0]\n",
    "\n",
    "\n",
    "# # Configure OAuth2 access token for authorization: strava_oauth\n",
    "# swagger_client.configuration.access_token = token\n",
    "\n",
    "# # create an instance of the API class\n",
    "# api_instance = swagger_client.AthletesApi()\n",
    "\n",
    "# try: \n",
    "#     # Get Authenticated Athlete\n",
    "#     api_response = api_instance.getLoggedInAthlete()\n",
    "#     pprint(api_response)\n",
    "# except ApiException as e:\n",
    "#     print(\"Exception when calling AthletesApi->getLoggedInAthlete: %s\\n\" % e)"
   ]
  },
  {
   "cell_type": "code",
   "execution_count": null,
   "metadata": {},
   "outputs": [],
   "source": [
    "# import pandas as pd\n",
    "# LAT = [i[0] for i in LATLONG]\n",
    "# LONG = [i[1] for i in LATLONG]\n",
    "# df_lat = pd.DataFrame({\"lat\":LAT})\n",
    "# df_long = pd.DataFrame({\"long\":LONG})\n"
   ]
  },
  {
   "cell_type": "code",
   "execution_count": null,
   "metadata": {},
   "outputs": [],
   "source": [
    "# import pandas as pd\n",
    "# temp= (dict_sort_des(frequency_dict))\n",
    "# temp"
   ]
  },
  {
   "cell_type": "code",
   "execution_count": null,
   "metadata": {},
   "outputs": [],
   "source": [
    "# crimedata2 = pd.DataFrame({\"Coordinate\":[i[0] for i in temp], \"Freq\":[j[1] for j in temp]})\n",
    "# crimedata2.head()"
   ]
  },
  {
   "cell_type": "code",
   "execution_count": null,
   "metadata": {},
   "outputs": [],
   "source": []
  },
  {
   "cell_type": "code",
   "execution_count": null,
   "metadata": {},
   "outputs": [],
   "source": [
    "# from stravalib.client import Client\n",
    "\n",
    "# client = Client()\n",
    "\n",
    "# authorize_url = client.authorization_url(client_id=29653, redirect_uri='ec2-18-236-253-110.us-west-2.compute.amazonaws.com')\n",
    "# authorize_url\n",
    "\n",
    "# code = \"3bb7b9e7b12868305df75889bace94d167e0d1cd\" \n",
    "# token_response = client.exchange_code_for_token(client_id=29653, client_secret='24ea02bbb8a6ea5e1355293bb9fddb90117baf4e', code=code)\n",
    "# access_token = str(token_response.encode('utf-8'))\n",
    "\n",
    "# client.access_token = access_token\n",
    "# athlete = client.get_athlete()\n",
    "# print(\"For {id}, I now have an access token {token}\".format(id=athlete.id, token=client.access_token))\n"
   ]
  },
  {
   "cell_type": "code",
   "execution_count": null,
   "metadata": {},
   "outputs": [],
   "source": [
    "# code = \"3bb7b9e7b12868305df75889bace94d167e0d1cd\" "
   ]
  },
  {
   "cell_type": "code",
   "execution_count": null,
   "metadata": {},
   "outputs": [],
   "source": [
    "# token_response = client.exchange_code_for_token(client_id=29653, client_secret='24ea02bbb8a6ea5e1355293bb9fddb90117baf4e', code=code)\n",
    "\n",
    "# # access_token = token_response['access_token']\n",
    "# # refresh_token = token_response['refresh_token']\n",
    "# # expires_at = token_response['expires_at']\n",
    "# str(token_response.encode('utf-8'))"
   ]
  },
  {
   "cell_type": "code",
   "execution_count": null,
   "metadata": {},
   "outputs": [],
   "source": [
    "# client.access_token = str(token_response.encode('utf-8'))\n",
    "# athlete = client.get_athlete()\n",
    "# print(\"For {id}, I now have an access token {token}\".format(id=athlete.id, token=client.access_token))\n"
   ]
  },
  {
   "cell_type": "code",
   "execution_count": null,
   "metadata": {},
   "outputs": [],
   "source": [
    "# curr_athlete = client.get_athlete()\n",
    "# curr_athlete"
   ]
  },
  {
   "cell_type": "code",
   "execution_count": null,
   "metadata": {},
   "outputs": [],
   "source": [
    "# activies = client.get_activity()\n"
   ]
  },
  {
   "cell_type": "code",
   "execution_count": null,
   "metadata": {},
   "outputs": [],
   "source": []
  },
  {
   "cell_type": "code",
   "execution_count": null,
   "metadata": {},
   "outputs": [],
   "source": []
  }
 ],
 "metadata": {
  "kernelspec": {
   "display_name": "Python 2",
   "language": "python",
   "name": "python2"
  },
  "language_info": {
   "codemirror_mode": {
    "name": "ipython",
    "version": 2
   },
   "file_extension": ".py",
   "mimetype": "text/x-python",
   "name": "python",
   "nbconvert_exporter": "python",
   "pygments_lexer": "ipython2",
   "version": "2.7.12"
  }
 },
 "nbformat": 4,
 "nbformat_minor": 2
}
